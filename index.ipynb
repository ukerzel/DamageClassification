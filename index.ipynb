{
 "cells": [
  {
   "attachments": {},
   "cell_type": "markdown",
   "metadata": {},
   "source": [
    "# Welcome\n",
    "\n",
    "This repository contains all files to get familiar with clustering as a machine learning method, as well as the analysis of nanoindentation data."
   ]
  }
 ],
 "metadata": {
  "kernelspec": {
   "display_name": "pythonintro-NlsZwE_T-py3.10",
   "language": "python",
   "name": "python3"
  },
  "language_info": {
   "name": "python",
   "version": "3.10.6 (main, Nov 14 2022, 16:10:14) [GCC 11.3.0]"
  },
  "orig_nbformat": 4,
  "vscode": {
   "interpreter": {
    "hash": "e79a103ddccd343bb7d1be701b671c098efc420295b660c764763b93be962cdf"
   }
  }
 },
 "nbformat": 4,
 "nbformat_minor": 2
}
