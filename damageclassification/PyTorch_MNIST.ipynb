{
  "cells": [
    {
      "attachments": {},
      "cell_type": "markdown",
      "metadata": {
        "id": "XerGI0BJSAQH"
      },
      "source": [
        "# Image classification with PyTorch\n",
        "\n",
        "In this exercise we start to build our first (deep learning) model ot analyse images.\n",
        "We use the famous MNIST data that was originally developed by [Yann LeCun:  \"THE MNIST DATABASE of handwritten digits\". Yann LeCun, Courant Institute, NYU Corinna Cortes, Google Labs, New York Christopher J.C. Burges, Microsoft Research, Redmond.](http://yann.lecun.com/exdb/mnist/)\n",
        "\n",
        "The dataset contains about 70.000 images of hand-written digits 0-9, 60.000 of which are typically used for training, the rest for testing.\n",
        "The images are normalised to a size of 28x28 pixels and anti-aliased which lead to the grayscale values that we can see in the data (as opposed a pure b/w image).\n",
        "These data have the advantage that they are often included in the tools, and are small enough that we can train a neural network in reasonable time even without using GPUs.\n",
        "\n",
        "A few years ago, the fashion company [Zalando](https://zalando.de) released a variant called [fahion-mnist](https://github.com/zalandoresearch/fashion-mnist) that can be used as a \"drop-in\" replacement, i.e. it has very similar properties: the same number of images for training and testing, the same size in terms of pixels, grayscale images, 10 classes, etc.\n",
        "However, instead of showing just numbers, clothing items are choses (trousers, shirts,etc). The main motivations where that the original MNIST data are too easy for modern systems and can no longer really be used to develop modern algorithms.\n",
        "However, in our case here we stick with the original data, as we want to explore how to setup a system and reduce our depencency on GPUs for now.\n",
        "\n",
        "We will also make use of the [TorchVision](https://pytorch.org/vision/stable/index.html) library. This provides convenient access to a number of datasets (such as MNIST), but also pre-trained models or commonly used image augmentation methods.\n"
      ]
    },
    {
      "cell_type": "code",
      "execution_count": 2,
      "metadata": {
        "id": "SbsUiK9_lXNS"
      },
      "outputs": [],
      "source": [
        "import torch\n",
        "from torch import nn\n",
        "from torch.utils.data import DataLoader\n",
        "import torch.nn.functional as F\n",
        "\n",
        "import torchvision as tv\n",
        "\n",
        "import matplotlib.pyplot as plt\n",
        "import numpy as np\n",
        "\n"
      ]
    },
    {
      "attachments": {},
      "cell_type": "markdown",
      "metadata": {
        "id": "eGyFnO2taTn5"
      },
      "source": [
        "# Data access\n",
        "\n",
        "Now we download the data using the convenience function from TorchVision for the [MNIST](https://pytorch.org/vision/stable/generated/torchvision.datasets.MNIST.html#torchvision.datasets.MNIST) data. It is essentially a wrapper function that downloads the data from Yann LeCun's webpage and adds it to the local directory."
      ]
    },
    {
      "cell_type": "code",
      "execution_count": 3,
      "metadata": {
        "id": "_9RmXMt0mc4G"
      },
      "outputs": [
        {
          "name": "stdout",
          "output_type": "stream",
          "text": [
            "Downloading http://yann.lecun.com/exdb/mnist/train-images-idx3-ubyte.gz\n",
            "Downloading http://yann.lecun.com/exdb/mnist/train-images-idx3-ubyte.gz to data/mnist/MNIST/raw/train-images-idx3-ubyte.gz\n"
          ]
        },
        {
          "name": "stderr",
          "output_type": "stream",
          "text": [
            "100.0%\n"
          ]
        },
        {
          "name": "stdout",
          "output_type": "stream",
          "text": [
            "Extracting data/mnist/MNIST/raw/train-images-idx3-ubyte.gz to data/mnist/MNIST/raw\n",
            "\n",
            "Downloading http://yann.lecun.com/exdb/mnist/train-labels-idx1-ubyte.gz\n",
            "Downloading http://yann.lecun.com/exdb/mnist/train-labels-idx1-ubyte.gz to data/mnist/MNIST/raw/train-labels-idx1-ubyte.gz\n"
          ]
        },
        {
          "name": "stderr",
          "output_type": "stream",
          "text": [
            "100.0%\n",
            "99.4%"
          ]
        },
        {
          "name": "stdout",
          "output_type": "stream",
          "text": [
            "Extracting data/mnist/MNIST/raw/train-labels-idx1-ubyte.gz to data/mnist/MNIST/raw\n",
            "\n",
            "Downloading http://yann.lecun.com/exdb/mnist/t10k-images-idx3-ubyte.gz\n",
            "Downloading http://yann.lecun.com/exdb/mnist/t10k-images-idx3-ubyte.gz to data/mnist/MNIST/raw/t10k-images-idx3-ubyte.gz\n"
          ]
        },
        {
          "name": "stderr",
          "output_type": "stream",
          "text": [
            "100.0%\n",
            "100.0%\n"
          ]
        },
        {
          "name": "stdout",
          "output_type": "stream",
          "text": [
            "Extracting data/mnist/MNIST/raw/t10k-images-idx3-ubyte.gz to data/mnist/MNIST/raw\n",
            "\n",
            "Downloading http://yann.lecun.com/exdb/mnist/t10k-labels-idx1-ubyte.gz\n",
            "Downloading http://yann.lecun.com/exdb/mnist/t10k-labels-idx1-ubyte.gz to data/mnist/MNIST/raw/t10k-labels-idx1-ubyte.gz\n",
            "Extracting data/mnist/MNIST/raw/t10k-labels-idx1-ubyte.gz to data/mnist/MNIST/raw\n",
            "\n"
          ]
        }
      ],
      "source": [
        "# Download training data from open datasets.\n",
        "training_data = tv.datasets.MNIST(\n",
        "    root=\"data/mnist\",\n",
        "    train=True,\n",
        "    download=True,\n",
        "    transform=tv.transforms.ToTensor(),\n",
        ")\n",
        "\n",
        "# Download test data from open datasets.\n",
        "test_data = tv.datasets.MNIST(\n",
        "    root=\"data/mnist\",\n",
        "    train=False,\n",
        "    download=True,\n",
        "    transform=tv.transforms.ToTensor(),\n",
        ")"
      ]
    },
    {
      "attachments": {},
      "cell_type": "markdown",
      "metadata": {
        "id": "5-6a5r_obCp5"
      },
      "source": [
        "Next, we need to make these data accessible to PyTorch.\n",
        "This can be done using the [DataLoader](https://pytorch.org/docs/stable/data.html) provided by PyTorch. This function provides some common functionality when dealing with the data.\n",
        "In particular, we will need to repeatedly access all images in the dataset and loop over them as the training progresses.\n",
        "Further, experience shows that it is helpful to split the training data into smaller chunks (or batches) to speed up training. This is more efficient than updating the parameters of the network after each single image, or wait until we have processed the entire data in one training loop (or: epoch).\n",
        "Here we will use a batch size of 64 (images) which works well - however, this is a free parameter and different values may work better in other situations.\n",
        "\n",
        "After we have defined the DataLoaders for access to the data, we print an example. As we would normally loop over the data, we set the loop up here as well, but terminate it after the first image.\n",
        "\n",
        "The array/vector/tensor ```X``` contains the images. Therefore, it's dimension reflects the batches of images we process:\n",
        "- In each iteration, we train/test the network in batches of 64 images\n",
        "- We have grayscale images (only one colour channel)\n",
        "- the picture is 28x28 pixels high/wide\n",
        "\n",
        "The array/vector/tensor ```y``` contains the corresponding true labels for each image (supervised training).\n",
        "\n",
        "Note the grayscale values due to the anti-aliasing that was applied when creating the data.\n"
      ]
    },
    {
      "cell_type": "code",
      "execution_count": 4,
      "metadata": {
        "colab": {
          "base_uri": "https://localhost:8080/",
          "height": 317
        },
        "id": "df3m1KRNnZCl",
        "outputId": "c71efc53-bdd5-402c-80fd-c3ce5c971f91"
      },
      "outputs": [
        {
          "name": "stdout",
          "output_type": "stream",
          "text": [
            "Shape of X [N images per batch, # colours, height, width]:  torch.Size([64, 1, 28, 28])\n",
            "Shape of y:  torch.Size([64]) torch.int64\n",
            "True label: 7\n"
          ]
        },
        {
          "data": {
            "image/png": "[encoded data removed]",
            "text/plain": [
              "<Figure size 640x480 with 1 Axes>"
            ]
          },
          "metadata": {},
          "output_type": "display_data"
        }
      ],
      "source": [
        "batch_size = 64\n",
        "\n",
        "# Create data loaders.\n",
        "train_dataloader = DataLoader(training_data, batch_size=batch_size)\n",
        "test_dataloader = DataLoader(test_data, batch_size=batch_size)\n",
        "\n",
        "# define the loop over the test data (even if we only use one image)\n",
        "for X, y in test_dataloader:\n",
        "    print(\"Shape of X [N images per batch, # colours, height, width]: \", X.shape)\n",
        "    print(\"Shape of y: \", y.shape, y.dtype)\n",
        "\n",
        "    #print an example\n",
        "    # since PyTorch tensors are of the form [#Channel, #pix X, #pix Y], need to \n",
        "    # transform back into image format\n",
        "    index = 0\n",
        "    plt.imshow(tv.transforms.ToPILImage()(X[index]), cmap='Greys')\n",
        "    print('True label: {}'.format(y[index]) )\n",
        "    break"
      ]
    },
    {
      "attachments": {},
      "cell_type": "markdown",
      "metadata": {
        "id": "ituN_KKZekHR"
      },
      "source": [
        "# Network definition\n",
        "\n",
        "Before we can train the network, we need to first setup the various components.\n",
        "In particular, we need to define the architecture of the neural network, as well as the optimiser and other parameters that we use to train the network.\n",
        "\n",
        "We start by defining the neural network.\n",
        "In PyTorch, we do so by defining a class inheriting vom ```nn.Module```. We need to do two main steps:\n",
        "- In the ```__init__()``` method: We need to define the components we want to use in our neural network model. Here we can make use of the many building blocks the PyTorch library provides us with and create the respective instances we need.\n",
        "- In the ```forward()``` method: Here we define how the model is built from the various components defined in the ```init()``` method. This defines the *forward* pass of the network (from input to output), hence the name. The backward pass with the update of the network parameters using back-propagation is then handled automatically by PyTorch. Essentially, we need to \"chain\" the components together to define our model: The data (i.e. our images) enter the network through the input layer, go through all intermediate layers and then get to the output layer that provides us, for example, with the predictions for the labels (i.e. here, which number the image shows).\n",
        "\n",
        "However, we also need to make sure that we move the model to GPU if we have one avaiable (together with the data).\n",
        "\n",
        "Generally, when building models working on images we use \n",
        "- [Convolutional](https://pytorch.org/docs/stable/generated/torch.nn.Conv2d.html) layers for learnable image processing \"filters\"\n",
        "- [Linear](https://pytorch.org/docs/stable/generated/torch.nn.Linear.html) layers, e.g. for classification of the labels using all the features learned by the previous (convolutional) layers.\n",
        "- [ReLU](https://pytorch.org/docs/stable/generated/torch.nn.ReLU.html) or others as an activation function.\n",
        "- [DropOut](https://pytorch.org/docs/stable/generated/torch.nn.Dropout.html) or  [Dropout2D](https://pytorch.org/docs/stable/generated/torch.nn.Dropout2d.html) for regularisation.\n",
        "- [MaxPool2D](https://pytorch.org/docs/stable/generated/torch.nn.MaxPool2d.html) as the pooling layer\n",
        "\n",
        "When defining the model, we have two hard constraints:\n",
        "- The input layer needs to be able to handle the 28x28 pixel grayscale images\n",
        "- We need 10 nodes in the output layer (one for each digit 0-9).\n",
        "How we set the intermediate layers up is, essentially, up to us and this is where the hard work of building and optimising a model comes in.\n",
        "\n",
        "In a first step, we build a very simple network without convolutional layers. Therefore, we do not expect it to be very good or performant, but it will allow us to \"learn the ropes\" of how to train a neural network.\n",
        "Since we only use \"fully-connected\" (or: \"dense\") layers, we first need to \"flatten\" the 2D image information into a long array that is 28*28 numbers long.\n",
        "This is then passed into the input layer ```fc1```. We choose ```512``` output nodes for this layer. This is passed into the next layer, where we choose also ```512``` ouput nodes, before going to the output layer with ```10``` output nodes. In between, we use ```ReLU``` as activation function.\n",
        "\n",
        "\n",
        "***Exercise***\n",
        "Upgrade the model to use convolutional layers, e.g. two ```Conv2D``` layers with a ```(3,3)``` kernel, ```(1,1)``` stride, as well as 32 and 64 output channels. Then, also use ```maxpool2D``` after the convolutional layers and dropout in the \"dense\" part of the network for regularisation.\n",
        "\n",
        "Note how we use the [Functional](https://pytorch.org/docs/stable/nn.functional.html) to pass the data through the various elements, e.g. the activation function."
      ]
    },
    {
      "cell_type": "code",
      "execution_count": 5,
      "metadata": {
        "colab": {
          "base_uri": "https://localhost:8080/"
        },
        "id": "8RJBMA0fnpKc",
        "outputId": "5a729942-60f8-4e70-970b-db79ed535d91"
      },
      "outputs": [
        {
          "name": "stdout",
          "output_type": "stream",
          "text": [
            "Using cpu device\n",
            "NeuralNetwork(\n",
            "  (flatten): Flatten(start_dim=1, end_dim=-1)\n",
            "  (fc1): Linear(in_features=784, out_features=512, bias=True)\n",
            "  (fc2): Linear(in_features=512, out_features=512, bias=True)\n",
            "  (fc3): Linear(in_features=512, out_features=10, bias=True)\n",
            ")\n"
          ]
        }
      ],
      "source": [
        "# Get cpu or gpu device for training.\n",
        "device = \"cuda\" if torch.cuda.is_available() else \"cpu\"\n",
        "print(f\"Using {device} device\")\n",
        "\n",
        "# Define  a simple model\n",
        "class NeuralNetwork(nn.Module):\n",
        "   def __init__(self):\n",
        "        super(NeuralNetwork, self).__init__()\n",
        "        self.flatten = nn.Flatten()\n",
        "        self.fc1 = nn.Linear(28*28, 512)\n",
        "        self.fc2 = nn.Linear(512, 512)\n",
        "        self.fc3 = nn.Linear(512, 10)\n",
        "\n",
        "   def forward(self, x):\n",
        "       x = self.flatten(x)\n",
        "       #logits = self.linear_relu_stack(x)\n",
        "       # return logits\n",
        "       x = self.fc1(x)\n",
        "       x = F.relu(x)\n",
        "       x = self.fc2(x)\n",
        "       x = F.relu(x)\n",
        "       x = self.fc3(x)\n",
        "       return x\n",
        "\n",
        "model = NeuralNetwork().to(device)\n",
        "print(model)"
      ]
    },
    {
      "cell_type": "markdown",
      "metadata": {
        "id": "dfa4uLhxtFTF"
      },
      "source": [
        "Next, we need to define the further parameters of the network.\n",
        "Two very important ingredients are:\n",
        "- the optimiser that is used to adjust the network weights during training\n",
        "- the loss function \n",
        "\n",
        "The loss function allows us to quantify how well the network performs and how \"good\" the predictions are, i.e. how close the predicted label is to the true label. Since we work on a classification task, we use the [cross-entropy loss](https://pytorch.org/docs/stable/generated/torch.nn.CrossEntropyLoss.html)\n",
        "\n",
        "Instead of stochastic gradient descent [SGD](https://pytorch.org/docs/stable/generated/torch.optim.SGD.html), we will use the [Adam](https://pytorch.org/docs/stable/generated/torch.optim.Adam.html?highlight=adam#torch.optim.Adam) optimiser, which is more efficient. We could also use, e.g. [AdamW](https://pytorch.org/docs/stable/generated/torch.optim.AdamW.html?highlight=adam#torch.optim.AdamW) as a modern variant.\n",
        "We need to pass the model parameters (i.e. the network weights) to the optimiser. This essentially \"tells\" the optimiser, which parameters need to be tuned during training."
      ]
    },
    {
      "cell_type": "code",
      "execution_count": 6,
      "metadata": {
        "id": "_DSpxVO6n52R"
      },
      "outputs": [],
      "source": [
        "##\n",
        "## Optimizer and Loss Function\n",
        "##\n",
        "loss_fn = nn.CrossEntropyLoss()\n",
        "\n",
        "# Choose the optimizer\n",
        "optimizer = torch.optim.Adam(model.parameters(), lr=1e-3)"
      ]
    },
    {
      "attachments": {},
      "cell_type": "markdown",
      "metadata": {
        "id": "Mc3GlViTuv9n"
      },
      "source": [
        "# Network training\n",
        "\n",
        "Here we define the functions that run over the data and either train the network or evaluate the test data.\n",
        "\n",
        "The main skeleton is the same:\n",
        "- we loop over batches over the data\n",
        "- move the data to the device (CPU or GPU)\n",
        "- calculate the predictions with the current state of the network (i.e. a forward pass)\n",
        "- determine the quality of the prediction (i.e. the value of the loss function).\n",
        "\n",
        "For the training loop, we then need to tell PyTorch to do the backward propagation and update the network weights.\n",
        "\n",
        "Note:\n",
        "- We need to tell PyTorch explicitly if we train the model, so that the weights can get updated: ```model.train()```. Otherwise, we switch to evaluation mode ```model.eval()```.\n",
        "- Our network has 10 output nodes, i.e. each note tells us how likely it is that this image corresponds to the label represented by this node. We need the node with the highest value to identify the most likely classification which we can do with ```argmax```."
      ]
    },
    {
      "cell_type": "code",
      "execution_count": 7,
      "metadata": {
        "id": "y2bcXu2DoC3L"
      },
      "outputs": [],
      "source": [
        "#\n",
        "# Training loop\n",
        "#\n",
        "def train_epoch(dataloader, model, loss_fn, optimizer):\n",
        "    size = len(dataloader.dataset)\n",
        "    running_loss = 0.0\n",
        "\n",
        "    # put the model into training mode\n",
        "    model.train()\n",
        "    for batch, (X, y) in enumerate(dataloader):\n",
        "\n",
        "        # need to send the data tensors explicitly to the device we want to \n",
        "        # train on. E.g. when we create the tensors (and load the data),\n",
        "        # they get created on the CPU, if we want to train on the GPU, \n",
        "        # we need to move it there explictly.\n",
        "        X, y = X.to(device), y.to(device)\n",
        "\n",
        "        #\n",
        "        # Forward pass - compute the output of the network\n",
        "        # (do not call forward() directly), \"apply\" the model on the data,\n",
        "        # compute prediction error\n",
        "        #\n",
        "        pred = model(X)\n",
        "        loss = loss_fn(pred, y)\n",
        "\n",
        "        #\n",
        "        # Backpropagation\n",
        "        #\n",
        "\n",
        "        # By default, the gradients accumulate, so we need to \n",
        "        # reset them explicitly at each new training step\n",
        "        optimizer.zero_grad()\n",
        "\n",
        "        # Now we need to calculate the gradients in all layers\n",
        "        # in the backward pass. \n",
        "        # (For some reason, this is method is owned by the loss function)\n",
        "        loss.backward()\n",
        "\n",
        "        # After we calculated the gradients, we need to take the step\n",
        "        # in the next best direction.\n",
        "        # (For some reason, this method is owned by the optimizer)\n",
        "        optimizer.step()\n",
        "\n",
        "        # record loss functions // change loss \n",
        "        loss_item = loss.item()\n",
        "        current = batch * len(X)\n",
        "\n",
        "        running_loss += loss_item\n",
        "        if batch % 100 == 0:\n",
        "            #loss, current = loss.item(), batch * len(X)\n",
        "            print(f\"loss: {loss_item:>7f}  [{current:>5d}/{size:>5d}]\")\n",
        "\n",
        "    return running_loss/size\n",
        "\n",
        "\n",
        "#\n",
        "# Test Loop\n",
        "#\n",
        "def test(dataloader, model, loss_fn):\n",
        "    size = len(dataloader.dataset)\n",
        "    num_batches = len(dataloader)\n",
        "\n",
        "    # put the model into the evaluation mode.\n",
        "    # some aspects (e.g. dropout, etc.) behave differently during\n",
        "    # trainig and inference/evaluation\n",
        "    model.eval()\n",
        "    test_loss, correct = 0, 0\n",
        "\n",
        "    # PyTorch stores gradient information by default - \n",
        "    # during inference we no longer need this as we won't update the\n",
        "    # parameters anymore. Therefore, we can use \"no_grad()\" to switch that off.\n",
        "    with torch.no_grad():\n",
        "        for X, y in dataloader:\n",
        "            X, y = X.to(device), y.to(device)\n",
        "            pred = model(X)\n",
        "            test_loss += loss_fn(pred, y).item()\n",
        "            correct += (pred.argmax(1) == y).type(torch.float).sum().item()\n",
        "    test_loss /= num_batches\n",
        "    correct /= size\n",
        "    print(f\"Test Error: \\n Accuracy: {(100*correct):>0.1f}%, Avg loss: {test_loss:>8f} \\n\") \n",
        "    return correct"
      ]
    },
    {
      "cell_type": "markdown",
      "metadata": {
        "id": "vANwQ3QFwMMX"
      },
      "source": [
        "Now we use these functions for the actual training."
      ]
    },
    {
      "cell_type": "code",
      "execution_count": 8,
      "metadata": {
        "colab": {
          "base_uri": "https://localhost:8080/"
        },
        "id": "Jh-MwE-PonOb",
        "outputId": "917d0fd6-0021-4bab-a4a5-094806996e8e"
      },
      "outputs": [
        {
          "name": "stdout",
          "output_type": "stream",
          "text": [
            "Epoch 1\n",
            "-------------------------------\n",
            "loss: 2.298340  [    0/60000]\n",
            "loss: 0.270394  [ 6400/60000]\n",
            "loss: 0.208364  [12800/60000]\n",
            "loss: 0.236694  [19200/60000]\n",
            "loss: 0.121136  [25600/60000]\n",
            "loss: 0.359634  [32000/60000]\n",
            "loss: 0.125792  [38400/60000]\n",
            "loss: 0.238881  [44800/60000]\n",
            "loss: 0.338077  [51200/60000]\n",
            "loss: 0.149119  [57600/60000]\n",
            "Test Error: \n",
            " Accuracy: 95.5%, Avg loss: 0.140293 \n",
            "\n",
            "Epoch 2\n",
            "-------------------------------\n",
            "loss: 0.066287  [    0/60000]\n",
            "loss: 0.113181  [ 6400/60000]\n",
            "loss: 0.136063  [12800/60000]\n",
            "loss: 0.101061  [19200/60000]\n",
            "loss: 0.050208  [25600/60000]\n",
            "loss: 0.128183  [32000/60000]\n",
            "loss: 0.044645  [38400/60000]\n",
            "loss: 0.121154  [44800/60000]\n",
            "loss: 0.129310  [51200/60000]\n",
            "loss: 0.101162  [57600/60000]\n",
            "Test Error: \n",
            " Accuracy: 97.0%, Avg loss: 0.100362 \n",
            "\n",
            "Epoch 3\n",
            "-------------------------------\n",
            "loss: 0.046648  [    0/60000]\n",
            "loss: 0.052031  [ 6400/60000]\n",
            "loss: 0.072090  [12800/60000]\n",
            "loss: 0.053408  [19200/60000]\n",
            "loss: 0.037704  [25600/60000]\n",
            "loss: 0.133048  [32000/60000]\n",
            "loss: 0.044136  [38400/60000]\n",
            "loss: 0.044641  [44800/60000]\n",
            "loss: 0.079919  [51200/60000]\n",
            "loss: 0.044935  [57600/60000]\n",
            "Test Error: \n",
            " Accuracy: 96.8%, Avg loss: 0.112118 \n",
            "\n",
            "Epoch 4\n",
            "-------------------------------\n",
            "loss: 0.036247  [    0/60000]\n",
            "loss: 0.008995  [ 6400/60000]\n",
            "loss: 0.037753  [12800/60000]\n",
            "loss: 0.116723  [19200/60000]\n",
            "loss: 0.020399  [25600/60000]\n",
            "loss: 0.063244  [32000/60000]\n",
            "loss: 0.034128  [38400/60000]\n",
            "loss: 0.015721  [44800/60000]\n",
            "loss: 0.092367  [51200/60000]\n",
            "loss: 0.018470  [57600/60000]\n",
            "Test Error: \n",
            " Accuracy: 97.5%, Avg loss: 0.093382 \n",
            "\n",
            "Epoch 5\n",
            "-------------------------------\n",
            "loss: 0.024640  [    0/60000]\n",
            "loss: 0.051161  [ 6400/60000]\n",
            "loss: 0.051852  [12800/60000]\n",
            "loss: 0.015063  [19200/60000]\n",
            "loss: 0.027980  [25600/60000]\n",
            "loss: 0.009461  [32000/60000]\n",
            "loss: 0.015943  [38400/60000]\n",
            "loss: 0.013883  [44800/60000]\n",
            "loss: 0.013469  [51200/60000]\n",
            "loss: 0.016938  [57600/60000]\n",
            "Test Error: \n",
            " Accuracy: 97.4%, Avg loss: 0.107702 \n",
            "\n",
            "Done!\n"
          ]
        }
      ],
      "source": [
        "##\n",
        "## The actual training/evaluation\n",
        "##\n",
        "epochs = 5\n",
        "loss_values = []\n",
        "accuracy_values = []\n",
        "\n",
        "for t in range(epochs):\n",
        "\n",
        "    print(f\"Epoch {t+1}\\n-------------------------------\")\n",
        "    loss = train_epoch(train_dataloader, model, loss_fn, optimizer)\n",
        "    loss_values.append(loss)\n",
        "\n",
        "    accuracy = test(test_dataloader, model, loss_fn)\n",
        "    accuracy_values.append(accuracy)\n",
        "print(\"Done!\")"
      ]
    },
    {
      "cell_type": "code",
      "execution_count": 9,
      "metadata": {
        "colab": {
          "base_uri": "https://localhost:8080/",
          "height": 283
        },
        "id": "TxwSKJM31JdH",
        "outputId": "c0723350-048a-4e3a-b371-e4355d1135a0"
      },
      "outputs": [
        {
          "data": {
            "image/png": "[encoded data removed]",
            "text/plain": [
              "<Figure size 640x480 with 2 Axes>"
            ]
          },
          "metadata": {},
          "output_type": "display_data"
        }
      ],
      "source": [
        "fig, axes = plt.subplots(2, sharex=True)\n",
        "axes[0].set_ylabel(\"Loss\", fontsize=14)\n",
        "axes[0].plot(loss_values)\n",
        "axes[1].set_ylabel(\"Accuracy\", fontsize=14)\n",
        "axes[1].set_xlabel(\"Iteration\", fontsize=14)\n",
        "axes[1].plot(accuracy_values)\n",
        "plt.show()"
      ]
    },
    {
      "cell_type": "markdown",
      "metadata": {
        "id": "NJ_rwY8vxAom"
      },
      "source": [
        "Even with the very simple fully connected network, we can achive an accuracy of 96%-97%. This isn't bad as such, indeed, in many applications, this would be considered phenomenal. However, the best classifiers achieve around 99.8%, the code at [MNIST-0.17](https://github.com/Matuzas77/MNIST-0.17) has an error rate of only 0.17%.\n",
        "This illustrates why we use MNIST for learning how to use neural networks for image processing and how to set the system up - but the data are not suitable (anymore) to develop performant neural network architectures."
      ]
    }
  ],
  "metadata": {
    "accelerator": "GPU",
    "colab": {
      "provenance": []
    },
    "kernelspec": {
      "display_name": "Python 3",
      "language": "python",
      "name": "python3"
    },
    "language_info": {
      "codemirror_mode": {
        "name": "ipython",
        "version": 3
      },
      "file_extension": ".py",
      "mimetype": "text/x-python",
      "name": "python",
      "nbconvert_exporter": "python",
      "pygments_lexer": "ipython3",
      "version": "3.10.12"
    },
    "vscode": {
      "interpreter": {
        "hash": "916dbcbb3f70747c44a77c7bcd40155683ae19c65e1c03b4aa3499c5328201f1"
      }
    }
  },
  "nbformat": 4,
  "nbformat_minor": 0
}
